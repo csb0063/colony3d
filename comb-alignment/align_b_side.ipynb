{
 "cells": [
  {
   "cell_type": "code",
   "execution_count": 1,
   "metadata": {},
   "outputs": [],
   "source": [
    "import cv2\n",
    "import numpy as np\n",
    "import glob\n",
    "import os\n",
    "import cv2\n",
    "import pandas as pd\n",
    "\n",
    "import matplotlib.pyplot as plt\n",
    "\n",
    "from comb_registration import keypoints_match_image, get_upper_keypoints\n",
    "from comb_registration import show_keypoints_on_image\n",
    "from comb_registration import get_warp_matrix\n",
    "from comb_registration import load_reference_mask\n",
    "from comb_registration import load_reference_image\n",
    "from comb_registration import load_reference_keypoints\n",
    "from comb_registration import load_keypoints\n",
    "from comb_registration import mirror_keypoints_horizontal\n",
    "    \n",
    "import sys\n",
    "sys.path.append('../functions')\n",
    "\n",
    "from comb_loading import get_organized_colony_names\n",
    "from comb_loading import load_colony_comb  \n",
    "from mask_processing_test import visualize_get_distance_to_class"
   ]
  },
  {
   "cell_type": "code",
   "execution_count": 2,
   "metadata": {},
   "outputs": [],
   "source": [
    "base_folder = \"/home/golden/kenya_drones/comb-detection/nest_photos\"\n",
    "\n",
    "reference_image = load_reference_image(base_folder, resize=True)\n",
    "reference_mask = load_reference_mask(base_folder, resize=False)\n",
    "reference_keypoints = load_reference_keypoints(base_folder, resize=False, \n",
    "                                               return_upper=True\n",
    "                                              )\n",
    "if False:\n",
    "    show_keypoints_on_image(reference_image, reference_keypoints)\n",
    "    show_keypoints_on_image(reference_mask, reference_keypoints)"
   ]
  },
  {
   "cell_type": "code",
   "execution_count": 3,
   "metadata": {},
   "outputs": [],
   "source": [
    "meta_file = \"/home/golden/Dropbox/bee-comb/img_to_text_df_TOEDIT.csv\"\n",
    "beeframe_meta = pd.read_csv(meta_file)\n",
    "colony_names = get_organized_colony_names(beeframe_meta)"
   ]
  },
  {
   "cell_type": "code",
   "execution_count": 51,
   "metadata": {},
   "outputs": [],
   "source": [
    "masks_folder_name = \"masks\"\n",
    "new_masks_folder_name = \"ab_aligned_masks\""
   ]
  },
  {
   "cell_type": "code",
   "execution_count": 57,
   "metadata": {},
   "outputs": [],
   "source": [
    "visualize = False\n",
    "\n",
    "side_b_meta = beeframe_meta.loc[beeframe_meta['side'] == 'b']\n",
    "for index, row in side_b_meta.iterrows():\n",
    "    if index % 100 == 0:\n",
    "        print(index)\n",
    "    colony_name = row['colony']\n",
    "    date = row['date']\n",
    "    beeframe = row['beeframe']\n",
    "    \n",
    "    date_folder = os.path.join(base_folder, colony_name, str(date))\n",
    "    b_frame_name = os.path.splitext(row['filename'])[0]\n",
    "    b_maskfile = os.path.join(date_folder, masks_folder_name, \n",
    "                              f\"{b_frame_name}.png\"\n",
    "                             )\n",
    "    b_mask = cv2.imread(b_maskfile, cv2.IMREAD_GRAYSCALE)\n",
    "    if b_mask is not None:\n",
    "        b_mask = b_mask[:, ::-1]\n",
    "        b_side_keypoints_file = os.path.join(base_folder, colony_name, \n",
    "                                            str(date), \"keypoints\", \n",
    "                                            f\"{b_frame_name}.csv\"\n",
    "                                           )\n",
    "        b_side_keypoints = load_keypoints(b_side_keypoints_file, \n",
    "                                          return_upper=True\n",
    "                                         )\n",
    "        b_side_keypoints = mirror_keypoints_horizontal(b_side_keypoints, \n",
    "                                                       b_mask.shape[1]\n",
    "                                                      )\n",
    "\n",
    "        transform = get_warp_matrix(b_side_keypoints, reference_keypoints)\n",
    "        b_mask_warped = cv2.warpAffine(b_mask, M=transform, \n",
    "                                       dsize=(reference_mask.shape[1], \n",
    "                                              reference_mask.shape[0]\n",
    "                                             )\n",
    "                                      )\n",
    "        b_maskfile_aligned = b_maskfile.replace(masks_folder_name, \n",
    "                                                new_masks_folder_name\n",
    "                                               )\n",
    "        os.makedirs(os.path.dirname(b_maskfile_aligned), exist_ok=True)\n",
    "        cv2.imwrite(b_maskfile_aligned, b_mask_warped)\n",
    "    a_ind = ((beeframe_meta['date']==date)\n",
    "             & (beeframe_meta['colony']==colony_name)\n",
    "             & (beeframe_meta['beeframe']==beeframe)\n",
    "             & (beeframe_meta['side']=='a')\n",
    "            )\n",
    "    if np.sum(a_ind) == 1:\n",
    "        a_frame_filename = beeframe_meta.loc[a_ind, 'filename'].item()\n",
    "        a_frame_name = os.path.splitext(a_frame_filename)[0]\n",
    "        a_maskfile = os.path.join(date_folder, \n",
    "                                  f\"warped_{masks_folder_name}\", \n",
    "                                  f\"{a_frame_name}.png\"\n",
    "                                 )\n",
    "        a_mask = cv2.imread(a_maskfile, cv2.IMREAD_GRAYSCALE)\n",
    "        if a_mask is not None:\n",
    "            a_mask = cv2.resize(a_mask, \n",
    "                                (reference_mask.shape[1], reference_mask.shape[0]),\n",
    "                                interpolation=cv2.INTER_LINEAR\n",
    "                               )\n",
    "            a_maskfile_aligned = a_maskfile.replace(f\"warped_{masks_folder_name}\", \n",
    "                                                    new_masks_folder_name\n",
    "                                                   )\n",
    "            os.makedirs(os.path.dirname(a_maskfile_aligned), exist_ok=True)\n",
    "            cv2.imwrite(a_maskfile_aligned, a_mask)\n",
    "            if visualize:\n",
    "                fig, axs = plt.subplots(1, 2)\n",
    "                axs[0].imshow(a_mask)\n",
    "                axs[0].imshow(b_mask_warped[:,::], alpha=.5)\n",
    "                axs[1].imshow(a_mask - b_mask_warped)"
   ]
  },
  {
   "cell_type": "code",
   "execution_count": null,
   "metadata": {},
   "outputs": [],
   "source": []
  },
  {
   "cell_type": "code",
   "execution_count": null,
   "metadata": {},
   "outputs": [],
   "source": []
  },
  {
   "cell_type": "code",
   "execution_count": null,
   "metadata": {},
   "outputs": [],
   "source": []
  },
  {
   "cell_type": "code",
   "execution_count": null,
   "metadata": {},
   "outputs": [],
   "source": []
  }
 ],
 "metadata": {
  "kernelspec": {
   "display_name": "Python 3",
   "language": "python",
   "name": "python3"
  },
  "language_info": {
   "codemirror_mode": {
    "name": "ipython",
    "version": 3
   },
   "file_extension": ".py",
   "mimetype": "text/x-python",
   "name": "python",
   "nbconvert_exporter": "python",
   "pygments_lexer": "ipython3",
   "version": "3.6.9"
  }
 },
 "nbformat": 4,
 "nbformat_minor": 4
}
